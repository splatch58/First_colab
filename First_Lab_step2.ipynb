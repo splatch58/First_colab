{
  "nbformat": 4,
  "nbformat_minor": 0,
  "metadata": {
    "colab": {
      "name": "First_Lab_step2.ipynb",
      "provenance": [],
      "authorship_tag": "ABX9TyOoS/2SWbwrw7Jk9vT9e39p",
      "include_colab_link": true
    },
    "kernelspec": {
      "name": "python3",
      "display_name": "Python 3"
    },
    "language_info": {
      "name": "python"
    }
  },
  "cells": [
    {
      "cell_type": "markdown",
      "metadata": {
        "id": "view-in-github",
        "colab_type": "text"
      },
      "source": [
        "<a href=\"https://colab.research.google.com/github/splatch58/First_colab/blob/main/First_Lab_step2.ipynb\" target=\"_parent\"><img src=\"https://colab.research.google.com/assets/colab-badge.svg\" alt=\"Open In Colab\"/></a>"
      ]
    },
    {
      "cell_type": "code",
      "execution_count": 2,
      "metadata": {
        "colab": {
          "base_uri": "https://localhost:8080/"
        },
        "id": "VWW8tTI4n0kI",
        "outputId": "f4182e03-102a-4d2e-c1f1-2ec7cc0724f6"
      },
      "outputs": [
        {
          "output_type": "stream",
          "name": "stdout",
          "text": [
            "Cloning into 'First_colab'...\n",
            "remote: Enumerating objects: 6, done.\u001b[K\n",
            "remote: Counting objects: 100% (6/6), done.\u001b[K\n",
            "remote: Compressing objects: 100% (4/4), done.\u001b[K\n",
            "remote: Total 6 (delta 0), reused 0 (delta 0), pack-reused 0\u001b[K\n",
            "Unpacking objects: 100% (6/6), done.\n"
          ]
        }
      ],
      "source": [
        "# cloning a repo on github\n",
        "!git clone https://github.com/splatch58/First_colab.git"
      ]
    },
    {
      "cell_type": "code",
      "source": [
        "# The file is available\n",
        "!ls"
      ],
      "metadata": {
        "colab": {
          "base_uri": "https://localhost:8080/"
        },
        "id": "NmQQJdoUoOaF",
        "outputId": "e746ab39-f2f4-4d60-b046-042e0600e5ef"
      },
      "execution_count": 3,
      "outputs": [
        {
          "output_type": "stream",
          "name": "stdout",
          "text": [
            "First_colab  sample_data\n"
          ]
        }
      ]
    },
    {
      "cell_type": "markdown",
      "source": [
        "## Variable and Functions"
      ],
      "metadata": {
        "id": "apl4Bqk9p1dU"
      }
    },
    {
      "cell_type": "markdown",
      "source": [
        "### Basic operation on variables"
      ],
      "metadata": {
        "id": "DbU_pjvD2e3R"
      }
    },
    {
      "cell_type": "code",
      "source": [
        "print(1+3)"
      ],
      "metadata": {
        "colab": {
          "base_uri": "https://localhost:8080/"
        },
        "id": "ijOFxboppMIT",
        "outputId": "6aa257ec-6124-4b05-83ed-2215ea99841e"
      },
      "execution_count": 5,
      "outputs": [
        {
          "output_type": "stream",
          "name": "stdout",
          "text": [
            "4\n"
          ]
        }
      ]
    },
    {
      "cell_type": "markdown",
      "source": [
        "List of natural number $\\mathbb{Z}$"
      ],
      "metadata": {
        "id": "PkUrEp03r7t0"
      }
    },
    {
      "cell_type": "code",
      "source": [
        "# Integer is a number in Z set\n",
        "# a is a float number.\n",
        "# The sum of an integer and a float number\n",
        "type(3 + 3.5)"
      ],
      "metadata": {
        "colab": {
          "base_uri": "https://localhost:8080/"
        },
        "id": "6G4vihpFpQ0o",
        "outputId": "04dd3a2e-49db-4662-a52c-322a1d448dc1"
      },
      "execution_count": 6,
      "outputs": [
        {
          "output_type": "execute_result",
          "data": {
            "text/plain": [
              "float"
            ]
          },
          "metadata": {},
          "execution_count": 6
        }
      ]
    },
    {
      "cell_type": "code",
      "source": [
        "# when you do a division, it is better to divide by a float even when integer to\n",
        "# to cast the result a float\n",
        "1/3."
      ],
      "metadata": {
        "colab": {
          "base_uri": "https://localhost:8080/"
        },
        "id": "p8LwQejAq6Aw",
        "outputId": "a25cc8c1-cffc-4cc9-ebf6-927fd13fcac9"
      },
      "execution_count": 10,
      "outputs": [
        {
          "output_type": "execute_result",
          "data": {
            "text/plain": [
              "0.3333333333333333"
            ]
          },
          "metadata": {},
          "execution_count": 10
        }
      ]
    },
    {
      "cell_type": "code",
      "source": [
        "# string concatenation\n",
        "\"hello \" + \"world\""
      ],
      "metadata": {
        "colab": {
          "base_uri": "https://localhost:8080/",
          "height": 37
        },
        "id": "WhfQarHUq7LU",
        "outputId": "d21a97a5-e640-44b2-c2c3-55768dffea72"
      },
      "execution_count": 14,
      "outputs": [
        {
          "output_type": "execute_result",
          "data": {
            "application/vnd.google.colaboratory.intrinsic+json": {
              "type": "string"
            },
            "text/plain": [
              "'hello world'"
            ]
          },
          "metadata": {},
          "execution_count": 14
        }
      ]
    },
    {
      "cell_type": "code",
      "source": [
        "str(4) + 'seven'"
      ],
      "metadata": {
        "colab": {
          "base_uri": "https://localhost:8080/",
          "height": 37
        },
        "id": "o5lRWfs9s3TW",
        "outputId": "dcd1d31c-640b-4ae0-ab72-aa98c66e18b4"
      },
      "execution_count": 16,
      "outputs": [
        {
          "output_type": "execute_result",
          "data": {
            "application/vnd.google.colaboratory.intrinsic+json": {
              "type": "string"
            },
            "text/plain": [
              "'4seven'"
            ]
          },
          "metadata": {},
          "execution_count": 16
        }
      ]
    },
    {
      "cell_type": "code",
      "source": [
        "'Hello'+'3'"
      ],
      "metadata": {
        "colab": {
          "base_uri": "https://localhost:8080/",
          "height": 37
        },
        "id": "Dtl5LSzLtLXp",
        "outputId": "dec310be-7582-482c-b832-1bc4aa01baf0"
      },
      "execution_count": 17,
      "outputs": [
        {
          "output_type": "execute_result",
          "data": {
            "application/vnd.google.colaboratory.intrinsic+json": {
              "type": "string"
            },
            "text/plain": [
              "'Hello3'"
            ]
          },
          "metadata": {},
          "execution_count": 17
        }
      ]
    },
    {
      "cell_type": "code",
      "source": [
        "print('hello',1)"
      ],
      "metadata": {
        "colab": {
          "base_uri": "https://localhost:8080/"
        },
        "id": "00BXUN3ctZky",
        "outputId": "0d252afe-494d-4ec5-b720-916de6179467"
      },
      "execution_count": 18,
      "outputs": [
        {
          "output_type": "stream",
          "name": "stdout",
          "text": [
            "hello 1\n"
          ]
        }
      ]
    },
    {
      "cell_type": "code",
      "source": [
        "# f-strings\n",
        "\"Hello, {}. Your are {}\".format('Robert','34')"
      ],
      "metadata": {
        "colab": {
          "base_uri": "https://localhost:8080/",
          "height": 37
        },
        "id": "29Mg7yuCtd9z",
        "outputId": "2692c90f-affb-4c95-bdb2-5a2f53181dcb"
      },
      "execution_count": 19,
      "outputs": [
        {
          "output_type": "execute_result",
          "data": {
            "application/vnd.google.colaboratory.intrinsic+json": {
              "type": "string"
            },
            "text/plain": [
              "'Hello, Robert. Your are 34'"
            ]
          },
          "metadata": {},
          "execution_count": 19
        }
      ]
    },
    {
      "cell_type": "code",
      "source": [
        "# fstring using variables\n",
        "prenom = 'bob'\n",
        "age = 3\n",
        "\"Hello, {}. Your are {}\".format(prenom,age)"
      ],
      "metadata": {
        "colab": {
          "base_uri": "https://localhost:8080/",
          "height": 37
        },
        "id": "pWUWUc6-t0Lx",
        "outputId": "01e5b8f0-80f7-43b6-e4d5-b390923e68c9"
      },
      "execution_count": 24,
      "outputs": [
        {
          "output_type": "execute_result",
          "data": {
            "application/vnd.google.colaboratory.intrinsic+json": {
              "type": "string"
            },
            "text/plain": [
              "'Hello, bob. Your are 3'"
            ]
          },
          "metadata": {},
          "execution_count": 24
        }
      ]
    },
    {
      "cell_type": "code",
      "source": [
        "f\"Hello, {prenom}. Your are {age}\""
      ],
      "metadata": {
        "colab": {
          "base_uri": "https://localhost:8080/",
          "height": 37
        },
        "id": "a_kck95ruBU3",
        "outputId": "9e031740-fd62-47fb-bf80-39666b4ae474"
      },
      "execution_count": 25,
      "outputs": [
        {
          "output_type": "execute_result",
          "data": {
            "application/vnd.google.colaboratory.intrinsic+json": {
              "type": "string"
            },
            "text/plain": [
              "'Hello, bob. Your are 3'"
            ]
          },
          "metadata": {},
          "execution_count": 25
        }
      ]
    },
    {
      "cell_type": "code",
      "source": [
        "prenom * age"
      ],
      "metadata": {
        "colab": {
          "base_uri": "https://localhost:8080/",
          "height": 37
        },
        "id": "_JD1GwBEupH7",
        "outputId": "9b6bdfa7-4266-42e5-a00b-20bcb8825100"
      },
      "execution_count": 27,
      "outputs": [
        {
          "output_type": "execute_result",
          "data": {
            "application/vnd.google.colaboratory.intrinsic+json": {
              "type": "string"
            },
            "text/plain": [
              "'bobbobbob'"
            ]
          },
          "metadata": {},
          "execution_count": 27
        }
      ]
    },
    {
      "cell_type": "code",
      "source": [
        "# Concatenation function 1\n",
        "def concatenate_function(word, number):\n",
        "  return word + str(number)"
      ],
      "metadata": {
        "id": "xMc9qfthvfJe"
      },
      "execution_count": 42,
      "outputs": []
    },
    {
      "cell_type": "code",
      "source": [
        "concatenate_function(prenom, age)"
      ],
      "metadata": {
        "colab": {
          "base_uri": "https://localhost:8080/",
          "height": 37
        },
        "id": "ln9pXDa5v8Iu",
        "outputId": "d595fe7d-945a-4831-8b9d-85114d748d28"
      },
      "execution_count": 44,
      "outputs": [
        {
          "output_type": "execute_result",
          "data": {
            "application/vnd.google.colaboratory.intrinsic+json": {
              "type": "string"
            },
            "text/plain": [
              "'bob3'"
            ]
          },
          "metadata": {},
          "execution_count": 44
        }
      ]
    },
    {
      "cell_type": "code",
      "source": [
        "# another possibility\n",
        "def concatenate_function_2(word, number):\n",
        "  try:\n",
        "    return word + str(number)\n",
        "  except:\n",
        "    isinstance(word,str) is False or isinstance(number, float) is False\n",
        "    return str(word) + str(number) "
      ],
      "metadata": {
        "id": "xTZXxC3qwCeJ"
      },
      "execution_count": 50,
      "outputs": []
    },
    {
      "cell_type": "code",
      "source": [
        "concatenate_function_2(19, \"bob\")"
      ],
      "metadata": {
        "colab": {
          "base_uri": "https://localhost:8080/",
          "height": 37
        },
        "id": "3r831onWwU28",
        "outputId": "7957caae-dea0-499b-8ada-55462a18353c"
      },
      "execution_count": 51,
      "outputs": [
        {
          "output_type": "execute_result",
          "data": {
            "application/vnd.google.colaboratory.intrinsic+json": {
              "type": "string"
            },
            "text/plain": [
              "'19bob'"
            ]
          },
          "metadata": {},
          "execution_count": 51
        }
      ]
    },
    {
      "cell_type": "code",
      "source": [
        "# fonction qui n'a pas de return mais un print à la place\n",
        "\n",
        "def concat_function_3(a , b):\n",
        "  print('{}{}'.format(a,b))"
      ],
      "metadata": {
        "id": "-fwQvcAiysXl"
      },
      "execution_count": 52,
      "outputs": []
    },
    {
      "cell_type": "code",
      "source": [
        "result = concat_function_3(prenom, age)"
      ],
      "metadata": {
        "colab": {
          "base_uri": "https://localhost:8080/"
        },
        "id": "Yqtp2i2w0UAG",
        "outputId": "c17ae9cb-04db-4b33-9c60-4dc2804dbeae"
      },
      "execution_count": 53,
      "outputs": [
        {
          "output_type": "stream",
          "name": "stdout",
          "text": [
            "bob3\n"
          ]
        }
      ]
    },
    {
      "cell_type": "code",
      "source": [
        "result2 = concatenate_function_2(prenom, age)"
      ],
      "metadata": {
        "id": "S_EUW9tW0cCN"
      },
      "execution_count": 54,
      "outputs": []
    },
    {
      "cell_type": "code",
      "source": [
        "# on ne peut pas enregistrer la sortie d'une fonction qui retourne un print\n",
        "# car elle ne retourne rien. On ne peut utiliser  son resultat une fois.\n",
        "result"
      ],
      "metadata": {
        "id": "h4gYGN2O0j3W"
      },
      "execution_count": 57,
      "outputs": []
    },
    {
      "cell_type": "code",
      "source": [
        "result2"
      ],
      "metadata": {
        "colab": {
          "base_uri": "https://localhost:8080/",
          "height": 37
        },
        "id": "g9HAJkkF0mla",
        "outputId": "471603b8-6297-4654-966e-dca280204beb"
      },
      "execution_count": 56,
      "outputs": [
        {
          "output_type": "execute_result",
          "data": {
            "application/vnd.google.colaboratory.intrinsic+json": {
              "type": "string"
            },
            "text/plain": [
              "'bob3'"
            ]
          },
          "metadata": {},
          "execution_count": 56
        }
      ]
    },
    {
      "cell_type": "markdown",
      "source": [
        "Avoid using **variable names** defined in the functions as *name* of variables\n",
        "this could lead to confusion"
      ],
      "metadata": {
        "id": "cOGUOHzu2LdB"
      }
    },
    {
      "cell_type": "code",
      "source": [
        ""
      ],
      "metadata": {
        "id": "FfC2aLdE2Qi_"
      },
      "execution_count": null,
      "outputs": []
    }
  ]
}