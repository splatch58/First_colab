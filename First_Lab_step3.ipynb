{
  "nbformat": 4,
  "nbformat_minor": 0,
  "metadata": {
    "colab": {
      "name": "First_Lab_step3.ipynb",
      "provenance": [],
      "collapsed_sections": [],
      "authorship_tag": "ABX9TyNFwA36pUd4XXuxPS3vB7G+",
      "include_colab_link": true
    },
    "kernelspec": {
      "name": "python3",
      "display_name": "Python 3"
    },
    "language_info": {
      "name": "python"
    }
  },
  "cells": [
    {
      "cell_type": "markdown",
      "metadata": {
        "id": "view-in-github",
        "colab_type": "text"
      },
      "source": [
        "<a href=\"https://colab.research.google.com/github/splatch58/First_colab/blob/main/First_Lab_step3.ipynb\" target=\"_parent\"><img src=\"https://colab.research.google.com/assets/colab-badge.svg\" alt=\"Open In Colab\"/></a>"
      ]
    },
    {
      "cell_type": "code",
      "source": [
        "from google.colab import drive\n",
        "drive.mount('/content/gdrive')"
      ],
      "metadata": {
        "colab": {
          "base_uri": "https://localhost:8080/"
        },
        "id": "PpLr0ST2eH2K",
        "outputId": "9bac8330-85fc-45f4-a99d-29c137253eca"
      },
      "execution_count": 9,
      "outputs": [
        {
          "output_type": "stream",
          "name": "stdout",
          "text": [
            "Mounted at /content/gdrive\n"
          ]
        }
      ]
    },
    {
      "cell_type": "code",
      "execution_count": 22,
      "metadata": {
        "id": "iO2gdP7TaMdW"
      },
      "outputs": [],
      "source": [
        "# write e function that list a folder\n",
        "\n",
        "import os\n",
        "\n",
        "def list_a_folder(mypath):\n",
        "  \"\"\"\n",
        "  This function returns the number of files in the folder path given as input\n",
        "  \"\"\"\n",
        "  list_of_file = os.listdir(mypath)\n",
        "  number_of_files = len(list_of_file)\n",
        "  return number_of_files"
      ]
    },
    {
      "cell_type": "code",
      "source": [
        "list_a_folder('/content/gdrive/MyDrive/DSTI')"
      ],
      "metadata": {
        "colab": {
          "base_uri": "https://localhost:8080/"
        },
        "id": "VvKK0yUpbJfy",
        "outputId": "b46ade7b-c980-4c94-88d4-59bbd923865f"
      },
      "execution_count": 23,
      "outputs": [
        {
          "output_type": "execute_result",
          "data": {
            "text/plain": [
              "7"
            ]
          },
          "metadata": {},
          "execution_count": 23
        }
      ]
    },
    {
      "cell_type": "code",
      "source": [
        "# write a function which list the file inside a specified folder and the number of files\n",
        "\n",
        "def list_a_folder_2(mypath):\n",
        "  \"\"\"\n",
        "  This function returns the number of files in the folder path given as input\n",
        "  and the list of the files\n",
        "  \"\"\"\n",
        "  list_of_file = os.listdir(mypath)\n",
        "  number_of_files = len(list_of_file)\n",
        "  return number_of_files, list_of_file"
      ],
      "metadata": {
        "id": "lr7359icgGaE"
      },
      "execution_count": 26,
      "outputs": []
    },
    {
      "cell_type": "code",
      "source": [
        "#Beware to write url with forward slash but not backward slash like when in linux\n",
        "my_path ='/content/gdrive/MyDrive/'\n",
        "list_a_folder_2(my_path)"
      ],
      "metadata": {
        "colab": {
          "base_uri": "https://localhost:8080/"
        },
        "id": "pJovBR3pg8bR",
        "outputId": "1775ec8f-fced-4993-e57c-ce93a2a53a61"
      },
      "execution_count": 49,
      "outputs": [
        {
          "output_type": "execute_result",
          "data": {
            "text/plain": [
              "(23,\n",
              " ['Colab Notebooks',\n",
              "  'Partage Drive-Linux',\n",
              "  'DSTI',\n",
              "  '40 ans Maud.gslides',\n",
              "  'Contrat ZOE',\n",
              "  'MultiMeter_Calendar.csv',\n",
              "  'Analyse Energie',\n",
              "  'Meter.csv',\n",
              "  'Meter_Calendar.csv',\n",
              "  'Analyse relevé compteur.gsheet',\n",
              "  'Impots',\n",
              "  'Couteaux - Forge',\n",
              "  '40000039434_20200816_20210816 (1).gsheet',\n",
              "  'puissance_instantanee.gsheet',\n",
              "  'Feuille de calcul sans titre.gsheet',\n",
              "  'Emploi du temps enfants.pdf',\n",
              "  'Photovoltaique',\n",
              "  'Simul Prêt JaDa Voiture Formation.gsheet',\n",
              "  \"Modes d'emploi - Reminder Domotique\",\n",
              "  'Projet sans titre.gscript',\n",
              "  'Domoticz',\n",
              "  'Famille2',\n",
              "  'Equipement Atelier'])"
            ]
          },
          "metadata": {},
          "execution_count": 49
        }
      ]
    },
    {
      "cell_type": "code",
      "source": [
        "# the precedent function list files but also folder. We only want to keep files\n",
        "# but not folder (via for loop)\n",
        "def list_a_folder_3(mypath, format_file):\n",
        "  \"\"\"\n",
        "  This function returns the number of files with specific format in the folder\n",
        "  path given as input and the list of the files\n",
        "  \"\"\"\n",
        "  content_list = os.listdir(mypath)\n",
        "  list_of_file = []\n",
        "  \n",
        "  #be carefull os.path.isfile take absolute path as argument and not relative one\n",
        "  [list_of_file.append(element) for element in content_list if os.path.isfile(mypath+element) and element.lower().endswith(format_file)]\n",
        "  \n",
        "  # another way to write the loop:\n",
        "  #for element in content_list:\n",
        "  #  if os.path.isfile(mypath+element) and element.lower().endswith(format_file):\n",
        "  #    list_of_file.append(element)\n",
        "\n",
        "  number_of_files = len(list_of_file)\n",
        "\n",
        "  return number_of_files, list_of_file\n"
      ],
      "metadata": {
        "id": "XFNbfGGchY1K"
      },
      "execution_count": 59,
      "outputs": []
    },
    {
      "cell_type": "code",
      "source": [
        "my_path ='/content/gdrive/MyDrive/'\n",
        "list_a_folder_3(my_path, 'csv')"
      ],
      "metadata": {
        "colab": {
          "base_uri": "https://localhost:8080/"
        },
        "id": "8WbDE80rk8Dl",
        "outputId": "302a60ff-70bf-4b7d-8f23-8dcf968d2e87"
      },
      "execution_count": 60,
      "outputs": [
        {
          "output_type": "execute_result",
          "data": {
            "text/plain": [
              "(3, ['MultiMeter_Calendar.csv', 'Meter.csv', 'Meter_Calendar.csv'])"
            ]
          },
          "metadata": {},
          "execution_count": 60
        }
      ]
    },
    {
      "cell_type": "code",
      "source": [
        ""
      ],
      "metadata": {
        "id": "OXGykqQgmLyc"
      },
      "execution_count": null,
      "outputs": []
    }
  ]
}