{
  "nbformat": 4,
  "nbformat_minor": 0,
  "metadata": {
    "colab": {
      "name": "First_Lab.ipynb",
      "provenance": [],
      "collapsed_sections": []
    },
    "kernelspec": {
      "name": "python3",
      "display_name": "Python 3"
    },
    "language_info": {
      "name": "python"
    }
  },
  "cells": [
    {
      "cell_type": "markdown",
      "source": [
        "First Exercice"
      ],
      "metadata": {
        "id": "sS2me3yDVMcI"
      }
    },
    {
      "cell_type": "markdown",
      "source": [
        "# Make First Header"
      ],
      "metadata": {
        "id": "6fsEAmrlYY-V"
      }
    },
    {
      "cell_type": "markdown",
      "source": [
        "## 1.1 Sous Titre"
      ],
      "metadata": {
        "id": "9Nt-CJQqYdBn"
      }
    },
    {
      "cell_type": "markdown",
      "source": [
        "### 1.1.1 Connect colab with google drive"
      ],
      "metadata": {
        "id": "dG1o5KB3Yi-j"
      }
    },
    {
      "cell_type": "code",
      "execution_count": 4,
      "metadata": {
        "colab": {
          "base_uri": "https://localhost:8080/"
        },
        "id": "QufW8qFpUuhS",
        "outputId": "886b197f-d68c-435f-f170-32662f907f07"
      },
      "outputs": [
        {
          "output_type": "stream",
          "name": "stdout",
          "text": [
            "Mounted at /content/gdrive\n"
          ]
        }
      ],
      "source": [
        "from google.colab import drive\n",
        "drive.mount('/content/gdrive')"
      ]
    },
    {
      "cell_type": "code",
      "source": [
        "# ls cmd lists the files in the directory you currently are\n",
        "!ls"
      ],
      "metadata": {
        "colab": {
          "base_uri": "https://localhost:8080/"
        },
        "id": "gMhLhuY-U-se",
        "outputId": "6482d755-ae79-439d-c271-255084208bdb"
      },
      "execution_count": 8,
      "outputs": [
        {
          "output_type": "stream",
          "name": "stdout",
          "text": [
            "gdrive\tsample_data\n"
          ]
        }
      ]
    },
    {
      "cell_type": "code",
      "source": [
        "#ls suivi du chemin d'accès d'un dossier permet de lister les fichiers qui y sont\n",
        "!ls gdrive/MyDrive/DSTI"
      ],
      "metadata": {
        "colab": {
          "base_uri": "https://localhost:8080/"
        },
        "id": "JdmO2648ZvYC",
        "outputId": "d988bcc7-2abc-4f6c-e353-35781e95463f"
      },
      "execution_count": 10,
      "outputs": [
        {
          "output_type": "stream",
          "name": "stdout",
          "text": [
            " Cours\n",
            "'Data Challenge Engie'\n",
            "'Demande_de_prise_en_charge_financiere (1).pdf'\n",
            " DSTI_Courses_Christophe_V2_New.xlsx\n",
            " DSTI_Courses_Dependence_Old.xlsx\n",
            "'[signed] [Data ScienceTech Institute] Studies Agreement Online Signature.pdf'\n",
            "'Stages Travaux EDF'\n"
          ]
        }
      ]
    },
    {
      "cell_type": "code",
      "source": [
        "# pwd: dossier courant\n",
        "!pwd"
      ],
      "metadata": {
        "colab": {
          "base_uri": "https://localhost:8080/"
        },
        "id": "S6MgFmM5afgO",
        "outputId": "9965208b-b579-40a5-8447-2afc27922433"
      },
      "execution_count": 12,
      "outputs": [
        {
          "output_type": "stream",
          "name": "stdout",
          "text": [
            "/content\n"
          ]
        }
      ]
    },
    {
      "cell_type": "code",
      "source": [
        "# changer de dossier\n",
        "!ls gdrive/MyDrive/DSTI"
      ],
      "metadata": {
        "colab": {
          "base_uri": "https://localhost:8080/"
        },
        "id": "7tsCHZupa1ch",
        "outputId": "69a1cbff-02de-48bd-e5a8-c7bf034f1e07"
      },
      "execution_count": 29,
      "outputs": [
        {
          "output_type": "stream",
          "name": "stdout",
          "text": [
            " Cours\n",
            "'Data Challenge Engie'\n",
            "'Demande_de_prise_en_charge_financiere (1).pdf'\n",
            " DSTI_Courses_Christophe_V2_New.xlsx\n",
            " DSTI_Courses_Dependence_Old.xlsx\n",
            "'[signed] [Data ScienceTech Institute] Studies Agreement Online Signature.pdf'\n",
            "'Stages Travaux EDF'\n"
          ]
        }
      ]
    },
    {
      "cell_type": "code",
      "source": [
        "# wget can download files on the web. It will be download on the local machine\n",
        "# root folder if no option is specified\n",
        "!wget https://archive.ics.uci.edu/ml/machine-learning-databases/iris/iris.data\n",
        "!wget https://archive.ics.uci.edu/ml/machine-learning-databases/iris/iris.names"
      ],
      "metadata": {
        "colab": {
          "base_uri": "https://localhost:8080/"
        },
        "id": "3ipwIjhPhSm9",
        "outputId": "52ece635-68b2-4b3e-a9ca-4b27c23c504b"
      },
      "execution_count": 41,
      "outputs": [
        {
          "output_type": "stream",
          "name": "stdout",
          "text": [
            "--2022-02-27 09:34:02--  https://archive.ics.uci.edu/ml/machine-learning-databases/iris/iris.data\n",
            "Resolving archive.ics.uci.edu (archive.ics.uci.edu)... 128.195.10.252\n",
            "Connecting to archive.ics.uci.edu (archive.ics.uci.edu)|128.195.10.252|:443... connected.\n",
            "HTTP request sent, awaiting response... 200 OK\n",
            "Length: 4551 (4.4K) [application/x-httpd-php]\n",
            "Saving to: ‘iris.data’\n",
            "\n",
            "iris.data           100%[===================>]   4.44K  --.-KB/s    in 0s      \n",
            "\n",
            "2022-02-27 09:34:03 (236 MB/s) - ‘iris.data’ saved [4551/4551]\n",
            "\n",
            "--2022-02-27 09:34:03--  https://archive.ics.uci.edu/ml/machine-learning-databases/iris/iris.names\n",
            "Resolving archive.ics.uci.edu (archive.ics.uci.edu)... 128.195.10.252\n",
            "Connecting to archive.ics.uci.edu (archive.ics.uci.edu)|128.195.10.252|:443... connected.\n",
            "HTTP request sent, awaiting response... 200 OK\n",
            "Length: 2998 (2.9K) [application/x-httpd-php]\n",
            "Saving to: ‘iris.names’\n",
            "\n",
            "iris.names          100%[===================>]   2.93K  --.-KB/s    in 0s      \n",
            "\n",
            "2022-02-27 09:34:04 (140 MB/s) - ‘iris.names’ saved [2998/2998]\n",
            "\n"
          ]
        }
      ]
    },
    {
      "cell_type": "code",
      "source": [
        "# it is downloaded on the root folder of the local machine\n",
        "!ls"
      ],
      "metadata": {
        "colab": {
          "base_uri": "https://localhost:8080/"
        },
        "id": "-Gt7_0WShYgY",
        "outputId": "c2dd4152-7933-4edd-e185-cdbb6b0d33e5"
      },
      "execution_count": 44,
      "outputs": [
        {
          "output_type": "stream",
          "name": "stdout",
          "text": [
            "gdrive\tiris.data  iris.names  sample_data\n"
          ]
        }
      ]
    },
    {
      "cell_type": "code",
      "source": [
        "# Moving the files from the local machine to my drive\n",
        "!mv iris.data gdrive/MyDrive/DSTI/Cours/ML\\ with\\ Python\\ Labs\n",
        "!mv iris.names gdrive/MyDrive/DSTI/Cours/ML\\ with\\ Python\\ Labs"
      ],
      "metadata": {
        "id": "dVggBo6qhitG"
      },
      "execution_count": 47,
      "outputs": []
    },
    {
      "cell_type": "code",
      "source": [
        "cd."
      ],
      "metadata": {
        "colab": {
          "base_uri": "https://localhost:8080/",
          "height": 134
        },
        "id": "ybanKvgNjI8I",
        "outputId": "4c89469b-075f-4c34-ca23-d03d48eeb360"
      },
      "execution_count": 52,
      "outputs": [
        {
          "output_type": "error",
          "ename": "SyntaxError",
          "evalue": "ignored",
          "traceback": [
            "\u001b[0;36m  File \u001b[0;32m\"<ipython-input-52-4d657136766b>\"\u001b[0;36m, line \u001b[0;32m1\u001b[0m\n\u001b[0;31m    cd.\u001b[0m\n\u001b[0m       ^\u001b[0m\n\u001b[0;31mSyntaxError\u001b[0m\u001b[0;31m:\u001b[0m invalid syntax\n"
          ]
        }
      ]
    },
    {
      "cell_type": "code",
      "source": [
        "!ls"
      ],
      "metadata": {
        "colab": {
          "base_uri": "https://localhost:8080/"
        },
        "id": "LuXLWyBOj2fK",
        "outputId": "6471562d-c3c6-44e9-f5d9-d66b0ae1adbc"
      },
      "execution_count": 49,
      "outputs": [
        {
          "output_type": "stream",
          "name": "stdout",
          "text": [
            "gdrive\tsample_data\n"
          ]
        }
      ]
    },
    {
      "cell_type": "code",
      "source": [
        ""
      ],
      "metadata": {
        "id": "tgA6LO5RkNe0"
      },
      "execution_count": null,
      "outputs": []
    }
  ]
}